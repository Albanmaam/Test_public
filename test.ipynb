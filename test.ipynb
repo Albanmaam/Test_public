#testing public repositories

import numpy as np
print('hi')

rand_mat=np.random.rand(10,10)
print(rand_mat)
